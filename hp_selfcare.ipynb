{
  "cells": [
    {
      "cell_type": "markdown",
      "metadata": {
        "id": "view-in-github",
        "colab_type": "text"
      },
      "source": [
        "<a href=\"https://colab.research.google.com/github/Promisekel/Python-Projects/blob/main/hp_selfcare.ipynb\" target=\"_parent\"><img src=\"https://colab.research.google.com/assets/colab-badge.svg\" alt=\"Open In Colab\"/></a>"
      ]
    },
    {
      "cell_type": "code",
      "execution_count": 128,
      "metadata": {
        "collapsed": true,
        "id": "O48n4VOtU0pU"
      },
      "outputs": [],
      "source": [
        "# @title Import Pandas\n",
        "#!pip install pandas # install the pandas module\n",
        "import pandas as pd # import the pandas module using the correct name"
      ]
    },
    {
      "cell_type": "code",
      "execution_count": 129,
      "metadata": {
        "id": "sEX_9MhJVY6-"
      },
      "outputs": [],
      "source": [
        "# @title import dataset\n",
        "#import dataset from google drive\n",
        "#hp_selfcrae = pd.read_excel(\"https://docs.google.com/spreadsheets/d/11B-1RrsMW7oP6UTPqfCxpASSbIxYs4mB/export?format=xlsx\", engine='openpyxl') # read the excel file from the url, explicitly specifying the engine\n",
        "hp_selfcrae = pd.read_excel(\"/content/hpselcaredataset.xlsx\")\n",
        "df_selfcare = pd.DataFrame(hp_selfcrae)"
      ]
    },
    {
      "cell_type": "code",
      "execution_count": 130,
      "metadata": {
        "colab": {
          "base_uri": "https://localhost:8080/"
        },
        "id": "3dLDN1Elio3j",
        "outputId": "8c74541a-e68d-4d88-e61b-8477a4711dac"
      },
      "outputs": [
        {
          "output_type": "stream",
          "name": "stdout",
          "text": [
            "<class 'pandas.core.frame.DataFrame'>\n",
            "RangeIndex: 250 entries, 0 to 249\n",
            "Data columns (total 45 columns):\n",
            " #   Column                                               Non-Null Count  Dtype \n",
            "---  ------                                               --------------  ----- \n",
            " 0   age                                                  250 non-null    object\n",
            " 1   gender                                               250 non-null    object\n",
            " 2   religion                                             250 non-null    object\n",
            " 3   marital_status                                       250 non-null    object\n",
            " 4   residence                                            250 non-null    object\n",
            " 5   educational_status                                   250 non-null    object\n",
            " 6   occupation                                           250 non-null    object\n",
            " 7   history_of_hp                                        250 non-null    object\n",
            " 8   family_hp                                            250 non-null    object\n",
            " 9   comorbidities                                        250 non-null    object\n",
            " 10  bmi                                                  250 non-null    object\n",
            " 11  bp_apparatus_home                                    250 non-null    object\n",
            " 12  has_antihypertensive_med                             250 non-null    object\n",
            " 13  bp_controled                                         250 non-null    object\n",
            " 14  engage_selfcare_practice                             250 non-null    object\n",
            " 15  smoker                                               250 non-null    object\n",
            " 16  alcoholic                                            250 non-null    object\n",
            " 17  manage_weight_tru_diet                               250 non-null    object\n",
            " 18  follow_low_salt_diet                                 250 non-null    object\n",
            " 19  physical_activity                                    250 non-null    object\n",
            " 20  use_stress_mgt_tec_hp                                250 non-null    object\n",
            " 21  visit_health_facility_check_ups                      250 non-null    object\n",
            " 22  often_checkup                                        250 non-null    object\n",
            " 23  hp_serious_lead_to_complication                      250 non-null    object\n",
            " 24  overweight_riskfactor_hp                             250 non-null    object\n",
            " 25  salt_consump_raises_bp                               250 non-null    object\n",
            " 26  physical exercise_reduce_bp                          250 non-null    object\n",
            " 27  smoking_has_neg_effect_hp                            250 non-null    object\n",
            " 28  alcohol_neg_impact_hp                                250 non-null    object\n",
            " 29  fruits_vegetables_good_hp                            250 non-null    object\n",
            " 30  check_ups_effective mgt_hp                           250 non-null    object\n",
            " 31  stress mgt_benefit_hp                                250 non-null    object\n",
            " 32  taking_prescrib_med_control_hp                       250 non-null    object\n",
            " 33  hp_home_regu_monit_import_hp_mgt                     250 non-null    object\n",
            " 34  lack_kndge_abt_hp_selfcare_prac                      250 non-null    object\n",
            " 35  limitedaccess_healthcservices_hinders_hp_selfcare    250 non-null    object\n",
            " 36  financialconstraints_impact_selfcare practices_hp    250 non-null    object\n",
            " 37  comorbidity_contributes_poor_selfcare_prac           250 non-null    object\n",
            " 38  hp_familyhistory_contributes_poor_self_care_prac     250 non-null    object\n",
            " 39  underweight_contributes_poor self_care_prac          250 non-null    object\n",
            " 40  normal_bmi_contributes_poor_selfcare_prac            250 non-null    object\n",
            " 41  overweight_contributes_poor_selfcare_prac            250 non-null    object\n",
            " 42  shot_long_hp_dura_contrib_poor selfcare_prac         250 non-null    object\n",
            " 43  miss_followup_appoint_hp_contrib_poor_selfcare_prac  250 non-null    object\n",
            " 44  Unnamed: 44                                          1 non-null      object\n",
            "dtypes: object(45)\n",
            "memory usage: 88.0+ KB\n"
          ]
        }
      ],
      "source": [
        "# @title Describe Dataset\n",
        "#explore dataset\n",
        "df_selfcare.shape\n",
        "df_selfcare.head()\n",
        "df_selfcare.describe()\n",
        "df_selfcare.info()"
      ]
    },
    {
      "cell_type": "markdown",
      "source": [],
      "metadata": {
        "id": "HYvWT8g71tnc"
      }
    },
    {
      "cell_type": "markdown",
      "source": [
        "\n",
        "\n",
        "---\n",
        "\n",
        "\n",
        "**DEMOGRAPHIC X'TICS (Frequency and percentage)**\n",
        "\n",
        "---\n",
        "\n"
      ],
      "metadata": {
        "id": "Vdxql7hroBCh"
      }
    },
    {
      "cell_type": "code",
      "execution_count": 131,
      "metadata": {
        "id": "-TeaVY6Wi2Rj",
        "colab": {
          "base_uri": "https://localhost:8080/"
        },
        "collapsed": true,
        "outputId": "22e8590f-2860-4002-8eb5-0615820fb079"
      },
      "outputs": [
        {
          "output_type": "execute_result",
          "data": {
            "text/plain": [
              "(age\n",
              " ≥70        67\n",
              " 40 - 49    49\n",
              " 50 - 59    46\n",
              " 30 - 39    44\n",
              " 60 - 69    29\n",
              " 20 - 29    15\n",
              " Name: count, dtype: int64,\n",
              " age\n",
              " ≥70        26.8\n",
              " 40 - 49    19.6\n",
              " 50 - 59    18.4\n",
              " 30 - 39    17.6\n",
              " 60 - 69    11.6\n",
              " 20 - 29     6.0\n",
              " Name: proportion, dtype: float64)"
            ]
          },
          "metadata": {},
          "execution_count": 131
        }
      ],
      "source": [
        "# @markdown Age\n",
        "df_selfcare['age'].value_counts(),df_selfcare['age'].value_counts(normalize=True)*100\n",
        "\n"
      ]
    },
    {
      "cell_type": "code",
      "source": [
        "  # @markdown Gender\n",
        "df_selfcare['gender'].value_counts(),df_selfcare['gender'].value_counts(normalize=True)*100\n"
      ],
      "metadata": {
        "colab": {
          "base_uri": "https://localhost:8080/"
        },
        "id": "1Fxr8Gp-LN0t",
        "outputId": "9503ecee-c0a6-4e64-85a2-eacc87ac6969"
      },
      "execution_count": 132,
      "outputs": [
        {
          "output_type": "execute_result",
          "data": {
            "text/plain": [
              "(gender\n",
              " Female    150\n",
              " Male      100\n",
              " Name: count, dtype: int64,\n",
              " gender\n",
              " Female    60.0\n",
              " Male      40.0\n",
              " Name: proportion, dtype: float64)"
            ]
          },
          "metadata": {},
          "execution_count": 132
        }
      ]
    },
    {
      "cell_type": "code",
      "source": [
        "  # @markdown Religion\n",
        "df_selfcare['religion'].value_counts(),df_selfcare['religion'].value_counts(normalize=True)*100\n",
        "\n",
        "#clean religion : combine athelist and no religion with traditioal rligion\n",
        "df_selfcare['religion_new'] = df_selfcare['religion'].replace({'Atheist ' : 'Traditional','No religion ' : 'Traditional'}) # remove extra space in \"Atheist \"\n",
        "df_selfcare['religion_new'].unique() #shows the levels or cateh=gories\n",
        "#df_selfcare.drop('column_name', axis=1, inplace=True) #axis=1 (drop a colunm), axis=0 (drop a row)\n",
        "df_selfcare['religion_new'].value_counts()\n"
      ],
      "metadata": {
        "colab": {
          "base_uri": "https://localhost:8080/",
          "height": 209
        },
        "cellView": "code",
        "id": "txggvl5pjbxi",
        "outputId": "43e67dfa-1aa8-46c5-b40b-227c88e4ca03"
      },
      "execution_count": 133,
      "outputs": [
        {
          "output_type": "execute_result",
          "data": {
            "text/plain": [
              "religion_new\n",
              "Christian      174\n",
              "Muslim          54\n",
              "Traditional     22\n",
              "Name: count, dtype: int64"
            ],
            "text/html": [
              "<div>\n",
              "<style scoped>\n",
              "    .dataframe tbody tr th:only-of-type {\n",
              "        vertical-align: middle;\n",
              "    }\n",
              "\n",
              "    .dataframe tbody tr th {\n",
              "        vertical-align: top;\n",
              "    }\n",
              "\n",
              "    .dataframe thead th {\n",
              "        text-align: right;\n",
              "    }\n",
              "</style>\n",
              "<table border=\"1\" class=\"dataframe\">\n",
              "  <thead>\n",
              "    <tr style=\"text-align: right;\">\n",
              "      <th></th>\n",
              "      <th>count</th>\n",
              "    </tr>\n",
              "    <tr>\n",
              "      <th>religion_new</th>\n",
              "      <th></th>\n",
              "    </tr>\n",
              "  </thead>\n",
              "  <tbody>\n",
              "    <tr>\n",
              "      <th>Christian</th>\n",
              "      <td>174</td>\n",
              "    </tr>\n",
              "    <tr>\n",
              "      <th>Muslim</th>\n",
              "      <td>54</td>\n",
              "    </tr>\n",
              "    <tr>\n",
              "      <th>Traditional</th>\n",
              "      <td>22</td>\n",
              "    </tr>\n",
              "  </tbody>\n",
              "</table>\n",
              "</div><br><label><b>dtype:</b> int64</label>"
            ]
          },
          "metadata": {},
          "execution_count": 133
        }
      ]
    },
    {
      "cell_type": "markdown",
      "source": [],
      "metadata": {
        "id": "m10jKqwJNMXD"
      }
    },
    {
      "cell_type": "code",
      "source": [
        "\n",
        "  # @markdown Marital Status\n",
        "df_selfcare['marital_status'].value_counts(),df_selfcare['marital_status'].value_counts(normalize=True)*100\n"
      ],
      "metadata": {
        "colab": {
          "base_uri": "https://localhost:8080/"
        },
        "id": "Yz7J4SK6LSd-",
        "outputId": "f4965177-bb66-42cc-8d42-a3960b5e24f8"
      },
      "execution_count": 134,
      "outputs": [
        {
          "output_type": "execute_result",
          "data": {
            "text/plain": [
              "(marital_status\n",
              " Married      118\n",
              " Widow         64\n",
              " Unmarried     40\n",
              " Divorced      28\n",
              " Name: count, dtype: int64,\n",
              " marital_status\n",
              " Married      47.2\n",
              " Widow        25.6\n",
              " Unmarried    16.0\n",
              " Divorced     11.2\n",
              " Name: proportion, dtype: float64)"
            ]
          },
          "metadata": {},
          "execution_count": 134
        }
      ]
    },
    {
      "cell_type": "code",
      "source": [
        "  # @markdown occupation\n",
        "df_selfcare[\"occupation\"].value_counts(),df_selfcare['occupation'].value_counts(normalize=True)*100\n"
      ],
      "metadata": {
        "colab": {
          "base_uri": "https://localhost:8080/"
        },
        "outputId": "b266be2f-ab49-4075-d486-a40275dafd87",
        "id": "ALHe3JuFjG5E"
      },
      "execution_count": 135,
      "outputs": [
        {
          "output_type": "execute_result",
          "data": {
            "text/plain": [
              "(occupation\n",
              " Self employed          85\n",
              " Retired                48\n",
              " Unemployed             38\n",
              " Government employee    36\n",
              " private employment     32\n",
              " Student                11\n",
              " Name: count, dtype: int64,\n",
              " occupation\n",
              " Self employed          34.0\n",
              " Retired                19.2\n",
              " Unemployed             15.2\n",
              " Government employee    14.4\n",
              " private employment     12.8\n",
              " Student                 4.4\n",
              " Name: proportion, dtype: float64)"
            ]
          },
          "metadata": {},
          "execution_count": 135
        }
      ]
    },
    {
      "cell_type": "code",
      "source": [
        "\n",
        "  # @markdown Education Level\n",
        "df_selfcare['educational_status'].value_counts(),df_selfcare['educational_status'].value_counts(normalize=True)*100\n"
      ],
      "metadata": {
        "colab": {
          "base_uri": "https://localhost:8080/"
        },
        "id": "rC_iCIssLZrN",
        "outputId": "6cb0a633-4132-43f1-8037-7a601c11cf70"
      },
      "execution_count": 136,
      "outputs": [
        {
          "output_type": "execute_result",
          "data": {
            "text/plain": [
              "(educational_status\n",
              " Secondary education    79\n",
              " Basic education        64\n",
              " Tertiary education     57\n",
              " no formal education    50\n",
              " Name: count, dtype: int64,\n",
              " educational_status\n",
              " Secondary education    31.6\n",
              " Basic education        25.6\n",
              " Tertiary education     22.8\n",
              " no formal education    20.0\n",
              " Name: proportion, dtype: float64)"
            ]
          },
          "metadata": {},
          "execution_count": 136
        }
      ]
    },
    {
      "cell_type": "code",
      "source": [
        "  # @markdown history_of_hp\n",
        "df_selfcare['history_of_hp'].value_counts(),df_selfcare['history_of_hp'].value_counts(normalize=True)*100\n"
      ],
      "metadata": {
        "colab": {
          "base_uri": "https://localhost:8080/"
        },
        "cellView": "code",
        "id": "elwTsUisLb7M",
        "outputId": "d6d36f95-fe44-42bf-b948-aab801e7a1f3"
      },
      "execution_count": 137,
      "outputs": [
        {
          "output_type": "execute_result",
          "data": {
            "text/plain": [
              "(history_of_hp\n",
              " ≤5years       124\n",
              " 6-10 years     86\n",
              " >10 years      40\n",
              " Name: count, dtype: int64,\n",
              " history_of_hp\n",
              " ≤5years       49.6\n",
              " 6-10 years    34.4\n",
              " >10 years     16.0\n",
              " Name: proportion, dtype: float64)"
            ]
          },
          "metadata": {},
          "execution_count": 137
        }
      ]
    },
    {
      "cell_type": "markdown",
      "source": [],
      "metadata": {
        "id": "9Nygs2oDLVKl"
      }
    },
    {
      "cell_type": "code",
      "source": [
        "# @markdown comorbidities\n",
        "df_selfcare['family_hp'].value_counts(),df_selfcare['family_hp'].value_counts(normalize=True)*100\n",
        "df_selfcare['family_hp_new'] = df_selfcare['family_hp'].replace({'cant_tell' : 'No'})\n",
        "df_selfcare['family_hp_new'].unique()\n",
        "df_selfcare['family_hp_new'].value_counts()"
      ],
      "metadata": {
        "colab": {
          "base_uri": "https://localhost:8080/",
          "height": 178
        },
        "cellView": "code",
        "id": "86yulCjWml2G",
        "outputId": "c65bac79-00a5-4100-8fa3-79d16cdc95dc"
      },
      "execution_count": 138,
      "outputs": [
        {
          "output_type": "execute_result",
          "data": {
            "text/plain": [
              "family_hp_new\n",
              "Yes    129\n",
              "No     121\n",
              "Name: count, dtype: int64"
            ],
            "text/html": [
              "<div>\n",
              "<style scoped>\n",
              "    .dataframe tbody tr th:only-of-type {\n",
              "        vertical-align: middle;\n",
              "    }\n",
              "\n",
              "    .dataframe tbody tr th {\n",
              "        vertical-align: top;\n",
              "    }\n",
              "\n",
              "    .dataframe thead th {\n",
              "        text-align: right;\n",
              "    }\n",
              "</style>\n",
              "<table border=\"1\" class=\"dataframe\">\n",
              "  <thead>\n",
              "    <tr style=\"text-align: right;\">\n",
              "      <th></th>\n",
              "      <th>count</th>\n",
              "    </tr>\n",
              "    <tr>\n",
              "      <th>family_hp_new</th>\n",
              "      <th></th>\n",
              "    </tr>\n",
              "  </thead>\n",
              "  <tbody>\n",
              "    <tr>\n",
              "      <th>Yes</th>\n",
              "      <td>129</td>\n",
              "    </tr>\n",
              "    <tr>\n",
              "      <th>No</th>\n",
              "      <td>121</td>\n",
              "    </tr>\n",
              "  </tbody>\n",
              "</table>\n",
              "</div><br><label><b>dtype:</b> int64</label>"
            ]
          },
          "metadata": {},
          "execution_count": 138
        }
      ]
    },
    {
      "cell_type": "code",
      "source": [
        "  # @markdown comorbidities\n",
        "df_selfcare['comorbidities'].value_counts(),df_selfcare['comorbidities'].value_counts(normalize=True)*100"
      ],
      "metadata": {
        "colab": {
          "base_uri": "https://localhost:8080/"
        },
        "id": "BGXKRAhEm6hK",
        "outputId": "65d8985c-acdd-467c-8131-40e4a5d44c02"
      },
      "execution_count": 139,
      "outputs": [
        {
          "output_type": "execute_result",
          "data": {
            "text/plain": [
              "(comorbidities\n",
              " No     145\n",
              " Yes    105\n",
              " Name: count, dtype: int64,\n",
              " comorbidities\n",
              " No     58.0\n",
              " Yes    42.0\n",
              " Name: proportion, dtype: float64)"
            ]
          },
          "metadata": {},
          "execution_count": 139
        }
      ]
    },
    {
      "cell_type": "code",
      "source": [
        "  # @markdown bmi\n",
        "df_selfcare['bmi'].value_counts(),df_selfcare['bmi'].value_counts(normalize=True)*100"
      ],
      "metadata": {
        "colab": {
          "base_uri": "https://localhost:8080/"
        },
        "id": "tOFAogT4nEZ_",
        "outputId": "e59cb455-ce17-4a00-afde-a67342dae169"
      },
      "execution_count": 140,
      "outputs": [
        {
          "output_type": "execute_result",
          "data": {
            "text/plain": [
              "(bmi\n",
              " Normal weight/ 18.5–24.9    147\n",
              " Over weight/ 25–29.9         66\n",
              " Underweight/ < 18.5          23\n",
              " Obese/ ≥ 30                  14\n",
              " Name: count, dtype: int64,\n",
              " bmi\n",
              " Normal weight/ 18.5–24.9    58.8\n",
              " Over weight/ 25–29.9        26.4\n",
              " Underweight/ < 18.5          9.2\n",
              " Obese/ ≥ 30                  5.6\n",
              " Name: proportion, dtype: float64)"
            ]
          },
          "metadata": {},
          "execution_count": 140
        }
      ]
    },
    {
      "cell_type": "markdown",
      "source": [],
      "metadata": {
        "id": "qG7ZPAZW1paZ"
      }
    },
    {
      "cell_type": "markdown",
      "source": [
        "---\n",
        "**TABLE 2: LIFESTYLE AND HABITS**\n",
        "\n",
        "\n",
        "---\n",
        "\n"
      ],
      "metadata": {
        "id": "AKicUFySn--z"
      }
    },
    {
      "cell_type": "code",
      "source": [
        "  # @markdown Smoking\n",
        "df_selfcare['bp_apparatus_home'].value_counts(),df_selfcare['bp_apparatus_home'].value_counts(normalize=True)*100\n",
        "\n",
        "#combine \"Not certain\" with \"No\"\n",
        "df_selfcare['bp_apparatus_home_new'] = df_selfcare['bp_apparatus_home'].replace({'Not certain' : 'No'})\n",
        "df_selfcare['bp_apparatus_home_new'].unique()\n",
        "df_selfcare['bp_apparatus_home_new'].value_counts()"
      ],
      "metadata": {
        "colab": {
          "base_uri": "https://localhost:8080/",
          "height": 178
        },
        "cellView": "code",
        "id": "poP2STie11J1",
        "outputId": "c499ef87-908a-4f0a-e3d8-e38c6226cb31"
      },
      "execution_count": 141,
      "outputs": [
        {
          "output_type": "execute_result",
          "data": {
            "text/plain": [
              "bp_apparatus_home_new\n",
              "No     188\n",
              "Yes     62\n",
              "Name: count, dtype: int64"
            ],
            "text/html": [
              "<div>\n",
              "<style scoped>\n",
              "    .dataframe tbody tr th:only-of-type {\n",
              "        vertical-align: middle;\n",
              "    }\n",
              "\n",
              "    .dataframe tbody tr th {\n",
              "        vertical-align: top;\n",
              "    }\n",
              "\n",
              "    .dataframe thead th {\n",
              "        text-align: right;\n",
              "    }\n",
              "</style>\n",
              "<table border=\"1\" class=\"dataframe\">\n",
              "  <thead>\n",
              "    <tr style=\"text-align: right;\">\n",
              "      <th></th>\n",
              "      <th>count</th>\n",
              "    </tr>\n",
              "    <tr>\n",
              "      <th>bp_apparatus_home_new</th>\n",
              "      <th></th>\n",
              "    </tr>\n",
              "  </thead>\n",
              "  <tbody>\n",
              "    <tr>\n",
              "      <th>No</th>\n",
              "      <td>188</td>\n",
              "    </tr>\n",
              "    <tr>\n",
              "      <th>Yes</th>\n",
              "      <td>62</td>\n",
              "    </tr>\n",
              "  </tbody>\n",
              "</table>\n",
              "</div><br><label><b>dtype:</b> int64</label>"
            ]
          },
          "metadata": {},
          "execution_count": 141
        }
      ]
    },
    {
      "cell_type": "markdown",
      "source": [],
      "metadata": {
        "id": "492op6zm105c"
      }
    },
    {
      "cell_type": "code",
      "source": [
        "  # @markdown bp_apparatus_home\n",
        "df_selfcare['bp_apparatus_home'].value_counts(),df_selfcare['bp_apparatus_home'].value_counts(normalize=True)*100\n",
        "\n",
        "#combine \"Not certain\" with \"No\"\n",
        "df_selfcare['bp_apparatus_home_new'] = df_selfcare['bp_apparatus_home'].replace({'Not certain' : 'No'})\n",
        "df_selfcare['bp_apparatus_home_new'].unique()\n",
        "df_selfcare['bp_apparatus_home_new'].value_counts()"
      ],
      "metadata": {
        "colab": {
          "base_uri": "https://localhost:8080/",
          "height": 178
        },
        "cellView": "code",
        "id": "A6AWF4zJ2OVI",
        "outputId": "910ce180-b875-4c0f-a624-48d0bee52415"
      },
      "execution_count": 142,
      "outputs": [
        {
          "output_type": "execute_result",
          "data": {
            "text/plain": [
              "bp_apparatus_home_new\n",
              "No     188\n",
              "Yes     62\n",
              "Name: count, dtype: int64"
            ],
            "text/html": [
              "<div>\n",
              "<style scoped>\n",
              "    .dataframe tbody tr th:only-of-type {\n",
              "        vertical-align: middle;\n",
              "    }\n",
              "\n",
              "    .dataframe tbody tr th {\n",
              "        vertical-align: top;\n",
              "    }\n",
              "\n",
              "    .dataframe thead th {\n",
              "        text-align: right;\n",
              "    }\n",
              "</style>\n",
              "<table border=\"1\" class=\"dataframe\">\n",
              "  <thead>\n",
              "    <tr style=\"text-align: right;\">\n",
              "      <th></th>\n",
              "      <th>count</th>\n",
              "    </tr>\n",
              "    <tr>\n",
              "      <th>bp_apparatus_home_new</th>\n",
              "      <th></th>\n",
              "    </tr>\n",
              "  </thead>\n",
              "  <tbody>\n",
              "    <tr>\n",
              "      <th>No</th>\n",
              "      <td>188</td>\n",
              "    </tr>\n",
              "    <tr>\n",
              "      <th>Yes</th>\n",
              "      <td>62</td>\n",
              "    </tr>\n",
              "  </tbody>\n",
              "</table>\n",
              "</div><br><label><b>dtype:</b> int64</label>"
            ]
          },
          "metadata": {},
          "execution_count": 142
        }
      ]
    },
    {
      "cell_type": "code",
      "source": [
        "    # @markdown has_anti-hypertensive_med\n",
        "df_selfcare['has_antihypertensive_med'].value_counts(),df_selfcare['has_antihypertensive_med'].value_counts(normalize=True)*100\n",
        "\n",
        "  #combine \"Not certain\" with \"No\"\n",
        "df_selfcare['has_antihypertensive_med_new'] = df_selfcare['has_antihypertensive_med'].replace({'Not certain' : 'No'})\n",
        "df_selfcare['has_antihypertensive_med_new'].unique()\n",
        "df_selfcare['has_antihypertensive_med_new'].value_counts()"
      ],
      "metadata": {
        "colab": {
          "base_uri": "https://localhost:8080/",
          "height": 178
        },
        "cellView": "code",
        "id": "86nWEMIb2Y92",
        "outputId": "cb5544fc-adaf-4777-ded7-170478a70165"
      },
      "execution_count": 143,
      "outputs": [
        {
          "output_type": "execute_result",
          "data": {
            "text/plain": [
              "has_antihypertensive_med_new\n",
              "Yes    192\n",
              "No      58\n",
              "Name: count, dtype: int64"
            ],
            "text/html": [
              "<div>\n",
              "<style scoped>\n",
              "    .dataframe tbody tr th:only-of-type {\n",
              "        vertical-align: middle;\n",
              "    }\n",
              "\n",
              "    .dataframe tbody tr th {\n",
              "        vertical-align: top;\n",
              "    }\n",
              "\n",
              "    .dataframe thead th {\n",
              "        text-align: right;\n",
              "    }\n",
              "</style>\n",
              "<table border=\"1\" class=\"dataframe\">\n",
              "  <thead>\n",
              "    <tr style=\"text-align: right;\">\n",
              "      <th></th>\n",
              "      <th>count</th>\n",
              "    </tr>\n",
              "    <tr>\n",
              "      <th>has_antihypertensive_med_new</th>\n",
              "      <th></th>\n",
              "    </tr>\n",
              "  </thead>\n",
              "  <tbody>\n",
              "    <tr>\n",
              "      <th>Yes</th>\n",
              "      <td>192</td>\n",
              "    </tr>\n",
              "    <tr>\n",
              "      <th>No</th>\n",
              "      <td>58</td>\n",
              "    </tr>\n",
              "  </tbody>\n",
              "</table>\n",
              "</div><br><label><b>dtype:</b> int64</label>"
            ]
          },
          "metadata": {},
          "execution_count": 143
        }
      ]
    },
    {
      "cell_type": "code",
      "source": [
        "  # @markdown bp_controled\n",
        "df_selfcare['bp_controled'].value_counts(),df_selfcare['bp_controled'].value_counts(normalize=True)*100\n",
        "\n",
        "#combine \"Not certain\" with \"No\"\n",
        "df_selfcare['bp_controled_new'] = df_selfcare['bp_controled'].replace({'Not certain' : 'No'})\n",
        "df_selfcare['bp_controled_new'].unique()\n",
        "df_selfcare['bp_controled_new'].value_counts()"
      ],
      "metadata": {
        "colab": {
          "base_uri": "https://localhost:8080/",
          "height": 178
        },
        "cellView": "code",
        "id": "X28jbHkG2fHv",
        "outputId": "69b31d55-ac48-44e6-afa7-63d16e709e1a"
      },
      "execution_count": 144,
      "outputs": [
        {
          "output_type": "execute_result",
          "data": {
            "text/plain": [
              "bp_controled_new\n",
              "Yes    137\n",
              "No     113\n",
              "Name: count, dtype: int64"
            ],
            "text/html": [
              "<div>\n",
              "<style scoped>\n",
              "    .dataframe tbody tr th:only-of-type {\n",
              "        vertical-align: middle;\n",
              "    }\n",
              "\n",
              "    .dataframe tbody tr th {\n",
              "        vertical-align: top;\n",
              "    }\n",
              "\n",
              "    .dataframe thead th {\n",
              "        text-align: right;\n",
              "    }\n",
              "</style>\n",
              "<table border=\"1\" class=\"dataframe\">\n",
              "  <thead>\n",
              "    <tr style=\"text-align: right;\">\n",
              "      <th></th>\n",
              "      <th>count</th>\n",
              "    </tr>\n",
              "    <tr>\n",
              "      <th>bp_controled_new</th>\n",
              "      <th></th>\n",
              "    </tr>\n",
              "  </thead>\n",
              "  <tbody>\n",
              "    <tr>\n",
              "      <th>Yes</th>\n",
              "      <td>137</td>\n",
              "    </tr>\n",
              "    <tr>\n",
              "      <th>No</th>\n",
              "      <td>113</td>\n",
              "    </tr>\n",
              "  </tbody>\n",
              "</table>\n",
              "</div><br><label><b>dtype:</b> int64</label>"
            ]
          },
          "metadata": {},
          "execution_count": 144
        }
      ]
    },
    {
      "cell_type": "code",
      "source": [
        "  # @markdown engage_selfcare_practice\n",
        "df_selfcare['engage_selfcare_practice'].value_counts(),df_selfcare['engage_selfcare_practice'].value_counts(normalize=True)*100\n",
        "\n",
        "#combine \"Not certain\" with \"No\"\n",
        "df_selfcare['engage_selfcare_practice_new'] = df_selfcare['engage_selfcare_practice'].replace({'Not certain' : 'No'})\n",
        "df_selfcare['engage_selfcare_practice_new'].unique()\n",
        "df_selfcare['engage_selfcare_practice_new'].value_counts(normalize=True)*100"
      ],
      "metadata": {
        "colab": {
          "base_uri": "https://localhost:8080/",
          "height": 178
        },
        "cellView": "code",
        "id": "_PxpayoU4SIJ",
        "outputId": "2cf050df-b2cf-4c37-f166-01072ea8502e"
      },
      "execution_count": 145,
      "outputs": [
        {
          "output_type": "execute_result",
          "data": {
            "text/plain": [
              "engage_selfcare_practice_new\n",
              "No     50.8\n",
              "Yes    49.2\n",
              "Name: proportion, dtype: float64"
            ],
            "text/html": [
              "<div>\n",
              "<style scoped>\n",
              "    .dataframe tbody tr th:only-of-type {\n",
              "        vertical-align: middle;\n",
              "    }\n",
              "\n",
              "    .dataframe tbody tr th {\n",
              "        vertical-align: top;\n",
              "    }\n",
              "\n",
              "    .dataframe thead th {\n",
              "        text-align: right;\n",
              "    }\n",
              "</style>\n",
              "<table border=\"1\" class=\"dataframe\">\n",
              "  <thead>\n",
              "    <tr style=\"text-align: right;\">\n",
              "      <th></th>\n",
              "      <th>proportion</th>\n",
              "    </tr>\n",
              "    <tr>\n",
              "      <th>engage_selfcare_practice_new</th>\n",
              "      <th></th>\n",
              "    </tr>\n",
              "  </thead>\n",
              "  <tbody>\n",
              "    <tr>\n",
              "      <th>No</th>\n",
              "      <td>50.8</td>\n",
              "    </tr>\n",
              "    <tr>\n",
              "      <th>Yes</th>\n",
              "      <td>49.2</td>\n",
              "    </tr>\n",
              "  </tbody>\n",
              "</table>\n",
              "</div><br><label><b>dtype:</b> float64</label>"
            ]
          },
          "metadata": {},
          "execution_count": 145
        }
      ]
    },
    {
      "cell_type": "code",
      "source": [
        "  # @markdown smoker\n",
        "df_selfcare['smoker'].value_counts(),df_selfcare['smoker'].value_counts(normalize=True)*100\n",
        "df_selfcare['smoker_new'] = df_selfcare['smoker'].replace({'Not certain' : 'No'})\n",
        "df_selfcare['smoker_new'].unique()\n",
        "df_selfcare['smoker_new'].value_counts()"
      ],
      "metadata": {
        "colab": {
          "base_uri": "https://localhost:8080/",
          "height": 178
        },
        "cellView": "code",
        "id": "4a69vt914bGf",
        "outputId": "ea748402-c2b2-4ee6-cbb2-6098c3d207d0"
      },
      "execution_count": 146,
      "outputs": [
        {
          "output_type": "execute_result",
          "data": {
            "text/plain": [
              "smoker_new\n",
              "No     219\n",
              "Yes     31\n",
              "Name: count, dtype: int64"
            ],
            "text/html": [
              "<div>\n",
              "<style scoped>\n",
              "    .dataframe tbody tr th:only-of-type {\n",
              "        vertical-align: middle;\n",
              "    }\n",
              "\n",
              "    .dataframe tbody tr th {\n",
              "        vertical-align: top;\n",
              "    }\n",
              "\n",
              "    .dataframe thead th {\n",
              "        text-align: right;\n",
              "    }\n",
              "</style>\n",
              "<table border=\"1\" class=\"dataframe\">\n",
              "  <thead>\n",
              "    <tr style=\"text-align: right;\">\n",
              "      <th></th>\n",
              "      <th>count</th>\n",
              "    </tr>\n",
              "    <tr>\n",
              "      <th>smoker_new</th>\n",
              "      <th></th>\n",
              "    </tr>\n",
              "  </thead>\n",
              "  <tbody>\n",
              "    <tr>\n",
              "      <th>No</th>\n",
              "      <td>219</td>\n",
              "    </tr>\n",
              "    <tr>\n",
              "      <th>Yes</th>\n",
              "      <td>31</td>\n",
              "    </tr>\n",
              "  </tbody>\n",
              "</table>\n",
              "</div><br><label><b>dtype:</b> int64</label>"
            ]
          },
          "metadata": {},
          "execution_count": 146
        }
      ]
    },
    {
      "cell_type": "code",
      "source": [
        "  # @markdown alcoholic\n",
        "df_selfcare['alcoholic'].value_counts(),df_selfcare['alcoholic'].value_counts(normalize=True)*100\n",
        "df_selfcare['alcoholic_new'] = df_selfcare['alcoholic'].replace({'Not certain' : 'No'})\n",
        "df_selfcare['alcoholic_new'].unique()\n",
        "df_selfcare['alcoholic_new'].value_counts()"
      ],
      "metadata": {
        "colab": {
          "base_uri": "https://localhost:8080/",
          "height": 178
        },
        "cellView": "code",
        "id": "r-MxF0144o0m",
        "outputId": "a8c9ca6b-8330-46f2-c8b0-b9474df1c7cd"
      },
      "execution_count": 147,
      "outputs": [
        {
          "output_type": "execute_result",
          "data": {
            "text/plain": [
              "alcoholic_new\n",
              "No     151\n",
              "Yes     99\n",
              "Name: count, dtype: int64"
            ],
            "text/html": [
              "<div>\n",
              "<style scoped>\n",
              "    .dataframe tbody tr th:only-of-type {\n",
              "        vertical-align: middle;\n",
              "    }\n",
              "\n",
              "    .dataframe tbody tr th {\n",
              "        vertical-align: top;\n",
              "    }\n",
              "\n",
              "    .dataframe thead th {\n",
              "        text-align: right;\n",
              "    }\n",
              "</style>\n",
              "<table border=\"1\" class=\"dataframe\">\n",
              "  <thead>\n",
              "    <tr style=\"text-align: right;\">\n",
              "      <th></th>\n",
              "      <th>count</th>\n",
              "    </tr>\n",
              "    <tr>\n",
              "      <th>alcoholic_new</th>\n",
              "      <th></th>\n",
              "    </tr>\n",
              "  </thead>\n",
              "  <tbody>\n",
              "    <tr>\n",
              "      <th>No</th>\n",
              "      <td>151</td>\n",
              "    </tr>\n",
              "    <tr>\n",
              "      <th>Yes</th>\n",
              "      <td>99</td>\n",
              "    </tr>\n",
              "  </tbody>\n",
              "</table>\n",
              "</div><br><label><b>dtype:</b> int64</label>"
            ]
          },
          "metadata": {},
          "execution_count": 147
        }
      ]
    },
    {
      "cell_type": "code",
      "source": [
        "  # @markdown manage_weight_tru_diet\n",
        "df_selfcare['manage_weight_tru_diet'].value_counts(),df_selfcare['manage_weight_tru_diet'].value_counts(normalize=True)*100\n",
        "df_selfcare['manage_weight_tru_diet_new'] = df_selfcare['manage_weight_tru_diet'].replace({'Not certain' : 'No'})\n",
        "df_selfcare['manage_weight_tru_diet_new'].value_counts()"
      ],
      "metadata": {
        "colab": {
          "base_uri": "https://localhost:8080/",
          "height": 178
        },
        "cellView": "code",
        "id": "hhTKKSpU5PhE",
        "outputId": "6b8554d7-e376-498d-898a-bb27c740311c"
      },
      "execution_count": 148,
      "outputs": [
        {
          "output_type": "execute_result",
          "data": {
            "text/plain": [
              "manage_weight_tru_diet_new\n",
              "No     157\n",
              "Yes     93\n",
              "Name: count, dtype: int64"
            ],
            "text/html": [
              "<div>\n",
              "<style scoped>\n",
              "    .dataframe tbody tr th:only-of-type {\n",
              "        vertical-align: middle;\n",
              "    }\n",
              "\n",
              "    .dataframe tbody tr th {\n",
              "        vertical-align: top;\n",
              "    }\n",
              "\n",
              "    .dataframe thead th {\n",
              "        text-align: right;\n",
              "    }\n",
              "</style>\n",
              "<table border=\"1\" class=\"dataframe\">\n",
              "  <thead>\n",
              "    <tr style=\"text-align: right;\">\n",
              "      <th></th>\n",
              "      <th>count</th>\n",
              "    </tr>\n",
              "    <tr>\n",
              "      <th>manage_weight_tru_diet_new</th>\n",
              "      <th></th>\n",
              "    </tr>\n",
              "  </thead>\n",
              "  <tbody>\n",
              "    <tr>\n",
              "      <th>No</th>\n",
              "      <td>157</td>\n",
              "    </tr>\n",
              "    <tr>\n",
              "      <th>Yes</th>\n",
              "      <td>93</td>\n",
              "    </tr>\n",
              "  </tbody>\n",
              "</table>\n",
              "</div><br><label><b>dtype:</b> int64</label>"
            ]
          },
          "metadata": {},
          "execution_count": 148
        }
      ]
    },
    {
      "cell_type": "code",
      "source": [
        "  # @markdown follow_low_salt_diet\n",
        "df_selfcare['follow_low_salt_diet'].value_counts(),df_selfcare['follow_low_salt_diet'].value_counts(normalize=True)*100\n",
        "df_selfcare['follow_low_salt_diet_new'] = df_selfcare['follow_low_salt_diet'].replace({'Not certain' : 'No'})\n",
        "df_selfcare['follow_low_salt_diet_new'].value_counts()"
      ],
      "metadata": {
        "colab": {
          "base_uri": "https://localhost:8080/",
          "height": 178
        },
        "cellView": "code",
        "id": "yGxrMozH5cB3",
        "outputId": "788f30b0-3eb7-4000-91fb-42531adb9517"
      },
      "execution_count": 149,
      "outputs": [
        {
          "output_type": "execute_result",
          "data": {
            "text/plain": [
              "follow_low_salt_diet_new\n",
              "Yes    139\n",
              "No     111\n",
              "Name: count, dtype: int64"
            ],
            "text/html": [
              "<div>\n",
              "<style scoped>\n",
              "    .dataframe tbody tr th:only-of-type {\n",
              "        vertical-align: middle;\n",
              "    }\n",
              "\n",
              "    .dataframe tbody tr th {\n",
              "        vertical-align: top;\n",
              "    }\n",
              "\n",
              "    .dataframe thead th {\n",
              "        text-align: right;\n",
              "    }\n",
              "</style>\n",
              "<table border=\"1\" class=\"dataframe\">\n",
              "  <thead>\n",
              "    <tr style=\"text-align: right;\">\n",
              "      <th></th>\n",
              "      <th>count</th>\n",
              "    </tr>\n",
              "    <tr>\n",
              "      <th>follow_low_salt_diet_new</th>\n",
              "      <th></th>\n",
              "    </tr>\n",
              "  </thead>\n",
              "  <tbody>\n",
              "    <tr>\n",
              "      <th>Yes</th>\n",
              "      <td>139</td>\n",
              "    </tr>\n",
              "    <tr>\n",
              "      <th>No</th>\n",
              "      <td>111</td>\n",
              "    </tr>\n",
              "  </tbody>\n",
              "</table>\n",
              "</div><br><label><b>dtype:</b> int64</label>"
            ]
          },
          "metadata": {},
          "execution_count": 149
        }
      ]
    },
    {
      "cell_type": "code",
      "source": [
        "  # @markdown physical_activity\n",
        "df_selfcare['physical_activity'].value_counts(),df_selfcare['physical_activity'].value_counts(normalize=True)*100\n",
        "df_selfcare['physical_activity_new'] = df_selfcare['physical_activity'].replace({'Not certain' : 'No'})\n",
        "df_selfcare['physical_activity_new'].value_counts()"
      ],
      "metadata": {
        "colab": {
          "base_uri": "https://localhost:8080/",
          "height": 178
        },
        "cellView": "code",
        "id": "ntfodkA-5xfL",
        "outputId": "29432087-7ed3-497e-e009-de400c73230e"
      },
      "execution_count": 150,
      "outputs": [
        {
          "output_type": "execute_result",
          "data": {
            "text/plain": [
              "physical_activity_new\n",
              "Yes    139\n",
              "No     111\n",
              "Name: count, dtype: int64"
            ],
            "text/html": [
              "<div>\n",
              "<style scoped>\n",
              "    .dataframe tbody tr th:only-of-type {\n",
              "        vertical-align: middle;\n",
              "    }\n",
              "\n",
              "    .dataframe tbody tr th {\n",
              "        vertical-align: top;\n",
              "    }\n",
              "\n",
              "    .dataframe thead th {\n",
              "        text-align: right;\n",
              "    }\n",
              "</style>\n",
              "<table border=\"1\" class=\"dataframe\">\n",
              "  <thead>\n",
              "    <tr style=\"text-align: right;\">\n",
              "      <th></th>\n",
              "      <th>count</th>\n",
              "    </tr>\n",
              "    <tr>\n",
              "      <th>physical_activity_new</th>\n",
              "      <th></th>\n",
              "    </tr>\n",
              "  </thead>\n",
              "  <tbody>\n",
              "    <tr>\n",
              "      <th>Yes</th>\n",
              "      <td>139</td>\n",
              "    </tr>\n",
              "    <tr>\n",
              "      <th>No</th>\n",
              "      <td>111</td>\n",
              "    </tr>\n",
              "  </tbody>\n",
              "</table>\n",
              "</div><br><label><b>dtype:</b> int64</label>"
            ]
          },
          "metadata": {},
          "execution_count": 150
        }
      ]
    },
    {
      "cell_type": "code",
      "source": [
        "  # @markdown use_stress_mgt_tec_hp\n",
        "df_selfcare['use_stress_mgt_tec_hp'].value_counts(),df_selfcare['use_stress_mgt_tec_hp'].value_counts(normalize=True)*100\n",
        "df_selfcare['use_stress_mgt_tec_hp_new'] = df_selfcare['use_stress_mgt_tec_hp'].replace({'Not certain' : 'No' ,'Strongly Agree' : 'No'})\n",
        "df_selfcare['use_stress_mgt_tec_hp_new'].value_counts()"
      ],
      "metadata": {
        "colab": {
          "base_uri": "https://localhost:8080/",
          "height": 178
        },
        "cellView": "code",
        "id": "FxT6Zobe57Gv",
        "outputId": "5cc10e30-9dc8-4bf4-ad3d-ccb5ea14c61b"
      },
      "execution_count": 151,
      "outputs": [
        {
          "output_type": "execute_result",
          "data": {
            "text/plain": [
              "use_stress_mgt_tec_hp_new\n",
              "No     157\n",
              "Yes     93\n",
              "Name: count, dtype: int64"
            ],
            "text/html": [
              "<div>\n",
              "<style scoped>\n",
              "    .dataframe tbody tr th:only-of-type {\n",
              "        vertical-align: middle;\n",
              "    }\n",
              "\n",
              "    .dataframe tbody tr th {\n",
              "        vertical-align: top;\n",
              "    }\n",
              "\n",
              "    .dataframe thead th {\n",
              "        text-align: right;\n",
              "    }\n",
              "</style>\n",
              "<table border=\"1\" class=\"dataframe\">\n",
              "  <thead>\n",
              "    <tr style=\"text-align: right;\">\n",
              "      <th></th>\n",
              "      <th>count</th>\n",
              "    </tr>\n",
              "    <tr>\n",
              "      <th>use_stress_mgt_tec_hp_new</th>\n",
              "      <th></th>\n",
              "    </tr>\n",
              "  </thead>\n",
              "  <tbody>\n",
              "    <tr>\n",
              "      <th>No</th>\n",
              "      <td>157</td>\n",
              "    </tr>\n",
              "    <tr>\n",
              "      <th>Yes</th>\n",
              "      <td>93</td>\n",
              "    </tr>\n",
              "  </tbody>\n",
              "</table>\n",
              "</div><br><label><b>dtype:</b> int64</label>"
            ]
          },
          "metadata": {},
          "execution_count": 151
        }
      ]
    },
    {
      "cell_type": "code",
      "source": [
        "  # @markdown visit_health_facility_check_ups\n",
        "df_selfcare['visit_health_facility_check_ups'].value_counts(),df_selfcare['visit_health_facility_check_ups'].value_counts(normalize=True)*100\n",
        "\n",
        "\n",
        "df_selfcare['visit_health_facility_check_ups_new'] = df_selfcare['visit_health_facility_check_ups'].replace({'Not certain' : 'No'})\n",
        "df_selfcare['visit_health_facility_check_ups_new'].value_counts()"
      ],
      "metadata": {
        "colab": {
          "base_uri": "https://localhost:8080/",
          "height": 178
        },
        "cellView": "code",
        "id": "h3W7GT4o6Bl5",
        "outputId": "68c5eb9f-c790-4a0e-beb6-cc8afae4dda8"
      },
      "execution_count": 152,
      "outputs": [
        {
          "output_type": "execute_result",
          "data": {
            "text/plain": [
              "visit_health_facility_check_ups_new\n",
              "Yes    171\n",
              "No      79\n",
              "Name: count, dtype: int64"
            ],
            "text/html": [
              "<div>\n",
              "<style scoped>\n",
              "    .dataframe tbody tr th:only-of-type {\n",
              "        vertical-align: middle;\n",
              "    }\n",
              "\n",
              "    .dataframe tbody tr th {\n",
              "        vertical-align: top;\n",
              "    }\n",
              "\n",
              "    .dataframe thead th {\n",
              "        text-align: right;\n",
              "    }\n",
              "</style>\n",
              "<table border=\"1\" class=\"dataframe\">\n",
              "  <thead>\n",
              "    <tr style=\"text-align: right;\">\n",
              "      <th></th>\n",
              "      <th>count</th>\n",
              "    </tr>\n",
              "    <tr>\n",
              "      <th>visit_health_facility_check_ups_new</th>\n",
              "      <th></th>\n",
              "    </tr>\n",
              "  </thead>\n",
              "  <tbody>\n",
              "    <tr>\n",
              "      <th>Yes</th>\n",
              "      <td>171</td>\n",
              "    </tr>\n",
              "    <tr>\n",
              "      <th>No</th>\n",
              "      <td>79</td>\n",
              "    </tr>\n",
              "  </tbody>\n",
              "</table>\n",
              "</div><br><label><b>dtype:</b> int64</label>"
            ]
          },
          "metadata": {},
          "execution_count": 152
        }
      ]
    },
    {
      "cell_type": "code",
      "source": [
        "# @markdown often_checkup\n",
        "df_selfcare['often_checkup'].value_counts(),df_selfcare['often_checkup'].value_counts(normalize=True)*100"
      ],
      "metadata": {
        "colab": {
          "base_uri": "https://localhost:8080/"
        },
        "cellView": "code",
        "id": "V5pvId_z6Hos",
        "outputId": "7c39c590-398c-4d2b-a9bd-a0941af87bbd"
      },
      "execution_count": 153,
      "outputs": [
        {
          "output_type": "execute_result",
          "data": {
            "text/plain": [
              "(often_checkup\n",
              " Monthly    129\n",
              " Rarely      82\n",
              " Weekly      30\n",
              " Daily        9\n",
              " Name: count, dtype: int64,\n",
              " often_checkup\n",
              " Monthly    51.6\n",
              " Rarely     32.8\n",
              " Weekly     12.0\n",
              " Daily       3.6\n",
              " Name: proportion, dtype: float64)"
            ]
          },
          "metadata": {},
          "execution_count": 153
        }
      ]
    },
    {
      "cell_type": "markdown",
      "source": [
        "\n",
        "\n",
        "---\n",
        "**LEVEL OF KNOWLEDGE REGARDING HYPERTENSION SELF-CARE PRACTICES**\n",
        "\n",
        "\n",
        "---\n",
        "\n"
      ],
      "metadata": {
        "id": "BZza3rPq6Yxi"
      }
    },
    {
      "cell_type": "code",
      "source": [
        "    # @markdown hp_serious_lead_to_complication\n",
        "df_selfcare['hp_serious_lead_to_complication'].value_counts(),df_selfcare['hp_serious_lead_to_complication'].value_counts(normalize=True)*100\n",
        "\n",
        "#\n",
        "df_selfcare['hp_serious_lead_to_complication_new'] = df_selfcare['hp_serious_lead_to_complication'].ty replace({'Not certain' : 'No'})\n",
        "df_selfcare['hp_serious_lead_to_complication_new'].value_counts()"
      ],
      "metadata": {
        "colab": {
          "base_uri": "https://localhost:8080/"
        },
        "cellView": "code",
        "id": "04_Zro5Q6WSz",
        "outputId": "bc30da1e-ffc1-4423-8dc4-6bcca342fbaf"
      },
      "execution_count": 154,
      "outputs": [
        {
          "output_type": "execute_result",
          "data": {
            "text/plain": [
              "(hp_serious_lead_to_complication\n",
              " Strongly Agree       117\n",
              " Agree                 72\n",
              " Disagree              34\n",
              " Strongly Disagree     27\n",
              " Name: count, dtype: int64,\n",
              " hp_serious_lead_to_complication\n",
              " Strongly Agree       46.8\n",
              " Agree                28.8\n",
              " Disagree             13.6\n",
              " Strongly Disagree    10.8\n",
              " Name: proportion, dtype: float64)"
            ]
          },
          "metadata": {},
          "execution_count": 154
        }
      ]
    },
    {
      "cell_type": "code",
      "source": [
        "# @markdown overweight_riskfactor_hp\n",
        "df_selfcare['overweight_riskfactor_hp'].value_counts(), df_selfcare['overweight_riskfactor_hp'].value_counts(normalize=True)*100\n"
      ],
      "metadata": {
        "colab": {
          "base_uri": "https://localhost:8080/"
        },
        "id": "bpJUw_ki8_67",
        "outputId": "2cca79a7-60ed-4451-e27a-0baf43dd57b0"
      },
      "execution_count": 155,
      "outputs": [
        {
          "output_type": "execute_result",
          "data": {
            "text/plain": [
              "(overweight_riskfactor_hp\n",
              " Strongly Agree       97\n",
              " Agree                81\n",
              " Disagree             48\n",
              " Strongly Disagree    24\n",
              " Name: count, dtype: int64,\n",
              " overweight_riskfactor_hp\n",
              " Strongly Agree       38.8\n",
              " Agree                32.4\n",
              " Disagree             19.2\n",
              " Strongly Disagree     9.6\n",
              " Name: proportion, dtype: float64)"
            ]
          },
          "metadata": {},
          "execution_count": 155
        }
      ]
    },
    {
      "cell_type": "code",
      "source": [
        "  # @markdown hp_serious_lead_to_complication\n",
        "df_selfcare['salt_consump_raises_bp'].value_counts(),df_selfcare['salt_consump_raises_bp'].value_counts(normalize=True)*100"
      ],
      "metadata": {
        "colab": {
          "base_uri": "https://localhost:8080/"
        },
        "id": "77P6l5R_9lmP",
        "outputId": "b09cedc7-7b00-41ff-b228-97a7bba98313"
      },
      "execution_count": 156,
      "outputs": [
        {
          "output_type": "execute_result",
          "data": {
            "text/plain": [
              "(salt_consump_raises_bp\n",
              " Agree                96\n",
              " Strongly Agree       75\n",
              " Disagree             61\n",
              " Strongly Disagree    18\n",
              " Name: count, dtype: int64,\n",
              " salt_consump_raises_bp\n",
              " Agree                38.4\n",
              " Strongly Agree       30.0\n",
              " Disagree             24.4\n",
              " Strongly Disagree     7.2\n",
              " Name: proportion, dtype: float64)"
            ]
          },
          "metadata": {},
          "execution_count": 156
        }
      ]
    },
    {
      "cell_type": "code",
      "source": [
        "    # @markdown physical exercise_reduce_bp\n",
        "df_selfcare['physical exercise_reduce_bp'].value_counts(),df_selfcare['physical exercise_reduce_bp'].value_counts(normalize=True)*100"
      ],
      "metadata": {
        "colab": {
          "base_uri": "https://localhost:8080/"
        },
        "id": "N778vLfr-BCA",
        "outputId": "d2137e25-572d-4eb4-f1f8-b6bec1881a6f"
      },
      "execution_count": 157,
      "outputs": [
        {
          "output_type": "execute_result",
          "data": {
            "text/plain": [
              "(physical exercise_reduce_bp\n",
              " Agree                100\n",
              " Strongly Agree        86\n",
              " Disagree              49\n",
              " Strongly Disagree     15\n",
              " Name: count, dtype: int64,\n",
              " physical exercise_reduce_bp\n",
              " Agree                40.0\n",
              " Strongly Agree       34.4\n",
              " Disagree             19.6\n",
              " Strongly Disagree     6.0\n",
              " Name: proportion, dtype: float64)"
            ]
          },
          "metadata": {},
          "execution_count": 157
        }
      ]
    },
    {
      "cell_type": "code",
      "source": [
        "    # @markdown smoking_has_neg_effect_hp\n",
        "df_selfcare['smoking_has_neg_effect_hp'].value_counts(),df_selfcare['smoking_has_neg_effect_hp'].value_counts(normalize=True)*100"
      ],
      "metadata": {
        "colab": {
          "base_uri": "https://localhost:8080/"
        },
        "id": "stN0HbVe-O-h",
        "outputId": "696d31fe-e88d-4ada-c408-051964fa0c1d"
      },
      "execution_count": 158,
      "outputs": [
        {
          "output_type": "execute_result",
          "data": {
            "text/plain": [
              "(smoking_has_neg_effect_hp\n",
              " Strongly Agree       98\n",
              " Agree                77\n",
              " Disagree             52\n",
              " Strongly Disagree    23\n",
              " Name: count, dtype: int64,\n",
              " smoking_has_neg_effect_hp\n",
              " Strongly Agree       39.2\n",
              " Agree                30.8\n",
              " Disagree             20.8\n",
              " Strongly Disagree     9.2\n",
              " Name: proportion, dtype: float64)"
            ]
          },
          "metadata": {},
          "execution_count": 158
        }
      ]
    },
    {
      "cell_type": "code",
      "source": [
        "    # @markdown alcohol_neg_impact_hp\n",
        "df_selfcare['alcohol_neg_impact_hp'].value_counts(),df_selfcare['alcohol_neg_impact_hp'].value_counts(normalize=True)*100"
      ],
      "metadata": {
        "colab": {
          "base_uri": "https://localhost:8080/"
        },
        "id": "-x9SKsCZ-cOp",
        "outputId": "cb3bb6a9-7854-4e8a-c06c-11d64c3e16cb"
      },
      "execution_count": 159,
      "outputs": [
        {
          "output_type": "execute_result",
          "data": {
            "text/plain": [
              "(alcohol_neg_impact_hp\n",
              " Strongly Agree       94\n",
              " Agree                77\n",
              " Disagree             52\n",
              " Strongly Disagree    27\n",
              " Name: count, dtype: int64,\n",
              " alcohol_neg_impact_hp\n",
              " Strongly Agree       37.6\n",
              " Agree                30.8\n",
              " Disagree             20.8\n",
              " Strongly Disagree    10.8\n",
              " Name: proportion, dtype: float64)"
            ]
          },
          "metadata": {},
          "execution_count": 159
        }
      ]
    },
    {
      "cell_type": "code",
      "source": [
        "    # @markdown fruits_vegetables_good_hp\n",
        "df_selfcare['fruits_vegetables_good_hp'].value_counts(),df_selfcare['fruits_vegetables_good_hp'].value_counts(normalize=True)*100"
      ],
      "metadata": {
        "colab": {
          "base_uri": "https://localhost:8080/"
        },
        "id": "blbqKGjJ-iZk",
        "outputId": "6efbcf24-7b72-4b78-a6c5-1455f0054dfa"
      },
      "execution_count": 160,
      "outputs": [
        {
          "output_type": "execute_result",
          "data": {
            "text/plain": [
              "(fruits_vegetables_good_hp\n",
              " Strongly Agree       104\n",
              " Agree                 93\n",
              " Disagree              47\n",
              " Strongly Disagree      6\n",
              " Name: count, dtype: int64,\n",
              " fruits_vegetables_good_hp\n",
              " Strongly Agree       41.6\n",
              " Agree                37.2\n",
              " Disagree             18.8\n",
              " Strongly Disagree     2.4\n",
              " Name: proportion, dtype: float64)"
            ]
          },
          "metadata": {},
          "execution_count": 160
        }
      ]
    },
    {
      "cell_type": "code",
      "source": [
        "    # @markdown check_ups_effective mgt_hp\n",
        "df_selfcare['check_ups_effective mgt_hp'].value_counts(),df_selfcare['check_ups_effective mgt_hp'].value_counts(normalize=True)*100"
      ],
      "metadata": {
        "colab": {
          "base_uri": "https://localhost:8080/"
        },
        "id": "o6cwFe9T_320",
        "outputId": "80744c65-9c2d-4604-fd6d-2c5c35c5aa26"
      },
      "execution_count": 161,
      "outputs": [
        {
          "output_type": "execute_result",
          "data": {
            "text/plain": [
              "(check_ups_effective mgt_hp\n",
              " Strongly Agree       122\n",
              " Agree                 94\n",
              " Disagree              26\n",
              " Strongly Disagree      8\n",
              " Name: count, dtype: int64,\n",
              " check_ups_effective mgt_hp\n",
              " Strongly Agree       48.8\n",
              " Agree                37.6\n",
              " Disagree             10.4\n",
              " Strongly Disagree     3.2\n",
              " Name: proportion, dtype: float64)"
            ]
          },
          "metadata": {},
          "execution_count": 161
        }
      ]
    },
    {
      "cell_type": "code",
      "source": [
        "    # @markdown stress mgt_benefit_hp\n",
        "df_selfcare['stress mgt_benefit_hp'].value_counts(),df_selfcare['stress mgt_benefit_hp'].value_counts(normalize=True)*100"
      ],
      "metadata": {
        "colab": {
          "base_uri": "https://localhost:8080/"
        },
        "id": "C-14dDBiABeJ",
        "outputId": "193fb076-407e-4b5d-b13b-dea5bfc21377"
      },
      "execution_count": 162,
      "outputs": [
        {
          "output_type": "execute_result",
          "data": {
            "text/plain": [
              "(stress mgt_benefit_hp\n",
              " Agree                90\n",
              " Strongly Agree       85\n",
              " Disagree             63\n",
              " Strongly Disagree    12\n",
              " Name: count, dtype: int64,\n",
              " stress mgt_benefit_hp\n",
              " Agree                36.0\n",
              " Strongly Agree       34.0\n",
              " Disagree             25.2\n",
              " Strongly Disagree     4.8\n",
              " Name: proportion, dtype: float64)"
            ]
          },
          "metadata": {},
          "execution_count": 162
        }
      ]
    },
    {
      "cell_type": "code",
      "source": [
        "    # @markdown taking_prescrib_med_control_hp\n",
        "df_selfcare['taking_prescrib_med_control_hp'].value_counts(),df_selfcare['taking_prescrib_med_control_hp'].value_counts(normalize=True)*100"
      ],
      "metadata": {
        "colab": {
          "base_uri": "https://localhost:8080/"
        },
        "id": "AcCiU1VlARXX",
        "outputId": "22216eef-752d-46f4-fbe6-3ada75c3feec"
      },
      "execution_count": 163,
      "outputs": [
        {
          "output_type": "execute_result",
          "data": {
            "text/plain": [
              "(taking_prescrib_med_control_hp\n",
              " Strongly Agree       111\n",
              " Agree                 99\n",
              " Disagree              27\n",
              " Strongly Disagree     13\n",
              " Name: count, dtype: int64,\n",
              " taking_prescrib_med_control_hp\n",
              " Strongly Agree       44.4\n",
              " Agree                39.6\n",
              " Disagree             10.8\n",
              " Strongly Disagree     5.2\n",
              " Name: proportion, dtype: float64)"
            ]
          },
          "metadata": {},
          "execution_count": 163
        }
      ]
    },
    {
      "cell_type": "code",
      "source": [],
      "metadata": {
        "id": "6Zcg71DwBBqH"
      },
      "execution_count": 163,
      "outputs": []
    },
    {
      "cell_type": "code",
      "source": [
        "    # @markdown hp_home_regu_monit_import_hp_mgt\n",
        "df_selfcare['hp_home_regu_monit_import_hp_mgt'].value_counts(),df_selfcare['hp_home_regu_monit_import_hp_mgt'].value_counts(normalize=True)*100"
      ],
      "metadata": {
        "colab": {
          "base_uri": "https://localhost:8080/"
        },
        "id": "tAccBi2LApx1",
        "outputId": "5eb4eb47-d769-4162-f1e9-e6363c841812"
      },
      "execution_count": 164,
      "outputs": [
        {
          "output_type": "execute_result",
          "data": {
            "text/plain": [
              "(hp_home_regu_monit_import_hp_mgt\n",
              " Agree                103\n",
              " Strongly Agree       102\n",
              " Disagree              29\n",
              " Strongly Disagree     16\n",
              " Name: count, dtype: int64,\n",
              " hp_home_regu_monit_import_hp_mgt\n",
              " Agree                41.2\n",
              " Strongly Agree       40.8\n",
              " Disagree             11.6\n",
              " Strongly Disagree     6.4\n",
              " Name: proportion, dtype: float64)"
            ]
          },
          "metadata": {},
          "execution_count": 164
        }
      ]
    },
    {
      "cell_type": "markdown",
      "source": [
        "\n",
        "\n",
        "---\n",
        "**TABLE 3: FACTORS CONTRIBUTING TO SELF-CARE PRACTICES**\n",
        "\n",
        "---\n",
        "\n",
        "\n"
      ],
      "metadata": {
        "id": "PfzKxkNDA0ZE"
      }
    },
    {
      "cell_type": "code",
      "source": [
        "    # @markdown lack_kndge_abt_hp_selfcare_prac\n",
        "df_selfcare['lack_kndge_abt_hp_selfcare_prac'].value_counts(),df_selfcare['lack_kndge_abt_hp_selfcare_prac'].value_counts(normalize=True)*100"
      ],
      "metadata": {
        "colab": {
          "base_uri": "https://localhost:8080/"
        },
        "id": "UGAMNxvbBal6",
        "outputId": "bbd888d0-6204-46d6-f2c6-23e8fa97c613"
      },
      "execution_count": 165,
      "outputs": [
        {
          "output_type": "execute_result",
          "data": {
            "text/plain": [
              "(lack_kndge_abt_hp_selfcare_prac\n",
              " Agree                77\n",
              " Strongly Agree       77\n",
              " Disagree             53\n",
              " Strongly Disagree    43\n",
              " Name: count, dtype: int64,\n",
              " lack_kndge_abt_hp_selfcare_prac\n",
              " Agree                30.8\n",
              " Strongly Agree       30.8\n",
              " Disagree             21.2\n",
              " Strongly Disagree    17.2\n",
              " Name: proportion, dtype: float64)"
            ]
          },
          "metadata": {},
          "execution_count": 165
        }
      ]
    },
    {
      "cell_type": "code",
      "source": [
        "    # @markdown limitedaccess_healthcservices_hinders_hp_selfcare\n",
        "df_selfcare['limitedaccess_healthcservices_hinders_hp_selfcare'].value_counts(),df_selfcare['limitedaccess_healthcservices_hinders_hp_selfcare'].value_counts(normalize=True)*100"
      ],
      "metadata": {
        "colab": {
          "base_uri": "https://localhost:8080/"
        },
        "id": "VwNRSlwVDNT0",
        "outputId": "97865503-3e67-476e-88db-832ce237d126"
      },
      "execution_count": 166,
      "outputs": [
        {
          "output_type": "execute_result",
          "data": {
            "text/plain": [
              "(limitedaccess_healthcservices_hinders_hp_selfcare\n",
              " Agree                100\n",
              " Strongly Agree        97\n",
              " Disagree              43\n",
              " Strongly Disagree     10\n",
              " Name: count, dtype: int64,\n",
              " limitedaccess_healthcservices_hinders_hp_selfcare\n",
              " Agree                40.0\n",
              " Strongly Agree       38.8\n",
              " Disagree             17.2\n",
              " Strongly Disagree     4.0\n",
              " Name: proportion, dtype: float64)"
            ]
          },
          "metadata": {},
          "execution_count": 166
        }
      ]
    },
    {
      "cell_type": "code",
      "source": [
        "    # @markdown financialconstraints_impact_selfcare practices_hp\n",
        "df_selfcare['financialconstraints_impact_selfcare practices_hp'].value_counts(),df_selfcare['financialconstraints_impact_selfcare practices_hp'].value_counts(normalize=True)*100"
      ],
      "metadata": {
        "colab": {
          "base_uri": "https://localhost:8080/"
        },
        "id": "kSNe2jmRDTD2",
        "outputId": "7a089649-9136-4d68-f1f1-5e5fe2c41f5f"
      },
      "execution_count": 167,
      "outputs": [
        {
          "output_type": "execute_result",
          "data": {
            "text/plain": [
              "(financialconstraints_impact_selfcare practices_hp\n",
              " Strongly Agree       119\n",
              " Agree                 87\n",
              " Disagree              28\n",
              " Strongly Disagree     16\n",
              " Name: count, dtype: int64,\n",
              " financialconstraints_impact_selfcare practices_hp\n",
              " Strongly Agree       47.6\n",
              " Agree                34.8\n",
              " Disagree             11.2\n",
              " Strongly Disagree     6.4\n",
              " Name: proportion, dtype: float64)"
            ]
          },
          "metadata": {},
          "execution_count": 167
        }
      ]
    },
    {
      "cell_type": "code",
      "source": [
        "      # @markdown comorbidity_contributes_poor_selfcare_prac\n",
        "df_selfcare['comorbidity_contributes_poor_selfcare_prac'].value_counts(),df_selfcare['comorbidity_contributes_poor_selfcare_prac'].value_counts(normalize=True)*100"
      ],
      "metadata": {
        "colab": {
          "base_uri": "https://localhost:8080/"
        },
        "id": "et8mGE0GDnlY",
        "outputId": "08d9aca0-6641-477e-fea3-e0682e4b893a"
      },
      "execution_count": 168,
      "outputs": [
        {
          "output_type": "execute_result",
          "data": {
            "text/plain": [
              "(comorbidity_contributes_poor_selfcare_prac\n",
              " Strongly Agree       85\n",
              " Agree                66\n",
              " Disagree             66\n",
              " Strongly Disagree    33\n",
              " Name: count, dtype: int64,\n",
              " comorbidity_contributes_poor_selfcare_prac\n",
              " Strongly Agree       34.0\n",
              " Agree                26.4\n",
              " Disagree             26.4\n",
              " Strongly Disagree    13.2\n",
              " Name: proportion, dtype: float64)"
            ]
          },
          "metadata": {},
          "execution_count": 168
        }
      ]
    },
    {
      "cell_type": "code",
      "source": [
        "    # @markdown hp_familyhistory_contributes_poor_self_care_prac\n",
        "df_selfcare['hp_familyhistory_contributes_poor_self_care_prac'].value_counts(),df_selfcare['hp_familyhistory_contributes_poor_self_care_prac'].value_counts(normalize=True)*100"
      ],
      "metadata": {
        "colab": {
          "base_uri": "https://localhost:8080/"
        },
        "id": "2oxZ5niiDz3n",
        "outputId": "40b8d3c3-281c-483e-d495-e5b507df5696"
      },
      "execution_count": 169,
      "outputs": [
        {
          "output_type": "execute_result",
          "data": {
            "text/plain": [
              "(hp_familyhistory_contributes_poor_self_care_prac\n",
              " Disagree             100\n",
              " Strongly Disagree     57\n",
              " Strongly Agree        52\n",
              " Agree                 41\n",
              " Name: count, dtype: int64,\n",
              " hp_familyhistory_contributes_poor_self_care_prac\n",
              " Disagree             40.0\n",
              " Strongly Disagree    22.8\n",
              " Strongly Agree       20.8\n",
              " Agree                16.4\n",
              " Name: proportion, dtype: float64)"
            ]
          },
          "metadata": {},
          "execution_count": 169
        }
      ]
    },
    {
      "cell_type": "code",
      "source": [
        "    # @markdown underweight_contributes_poor self_care_prac\n",
        "df_selfcare['underweight_contributes_poor self_care_prac'].value_counts(),df_selfcare['underweight_contributes_poor self_care_prac'].value_counts(normalize=True)*100"
      ],
      "metadata": {
        "colab": {
          "base_uri": "https://localhost:8080/"
        },
        "id": "IetVY37KEBro",
        "outputId": "ba52793f-c995-45b4-dd67-185143ed45a0"
      },
      "execution_count": 170,
      "outputs": [
        {
          "output_type": "execute_result",
          "data": {
            "text/plain": [
              "(underweight_contributes_poor self_care_prac\n",
              " Disagree             124\n",
              " Strongly Disagree     59\n",
              " Agree                 35\n",
              " Strongly Agree        32\n",
              " Name: count, dtype: int64,\n",
              " underweight_contributes_poor self_care_prac\n",
              " Disagree             49.6\n",
              " Strongly Disagree    23.6\n",
              " Agree                14.0\n",
              " Strongly Agree       12.8\n",
              " Name: proportion, dtype: float64)"
            ]
          },
          "metadata": {},
          "execution_count": 170
        }
      ]
    },
    {
      "cell_type": "code",
      "source": [
        "    # @markdown normal_bmi_contributes_poor_selfcare_prac\n",
        "df_selfcare['normal_bmi_contributes_poor_selfcare_prac'].value_counts(),df_selfcare['normal_bmi_contributes_poor_selfcare_prac'].value_counts(normalize=True)*100\n"
      ],
      "metadata": {
        "colab": {
          "base_uri": "https://localhost:8080/"
        },
        "id": "Ic3dZ2dBELjp",
        "outputId": "997e1461-15db-4cae-93e0-a186d96ce53a"
      },
      "execution_count": 171,
      "outputs": [
        {
          "output_type": "execute_result",
          "data": {
            "text/plain": [
              "(normal_bmi_contributes_poor_selfcare_prac\n",
              " Disagree             122\n",
              " Strongly Disagree     63\n",
              " Agree                 33\n",
              " Strongly Agree        32\n",
              " Name: count, dtype: int64,\n",
              " normal_bmi_contributes_poor_selfcare_prac\n",
              " Disagree             48.8\n",
              " Strongly Disagree    25.2\n",
              " Agree                13.2\n",
              " Strongly Agree       12.8\n",
              " Name: proportion, dtype: float64)"
            ]
          },
          "metadata": {},
          "execution_count": 171
        }
      ]
    },
    {
      "cell_type": "code",
      "source": [
        "    # @markdown overweight_contributes_poor_selfcare_prac\n",
        "df_selfcare['overweight_contributes_poor_selfcare_prac'].value_counts(),df_selfcare['overweight_contributes_poor_selfcare_prac'].value_counts(normalize=True)*100"
      ],
      "metadata": {
        "colab": {
          "base_uri": "https://localhost:8080/"
        },
        "id": "ttGAQeK1Ec1f",
        "outputId": "e41a6bb1-16b9-46d7-c814-4b020dec4ecb"
      },
      "execution_count": 172,
      "outputs": [
        {
          "output_type": "execute_result",
          "data": {
            "text/plain": [
              "(overweight_contributes_poor_selfcare_prac\n",
              " Agree                80\n",
              " Disagree             71\n",
              " Strongly Agree       59\n",
              " Strongly Disagree    40\n",
              " Name: count, dtype: int64,\n",
              " overweight_contributes_poor_selfcare_prac\n",
              " Agree                32.0\n",
              " Disagree             28.4\n",
              " Strongly Agree       23.6\n",
              " Strongly Disagree    16.0\n",
              " Name: proportion, dtype: float64)"
            ]
          },
          "metadata": {},
          "execution_count": 172
        }
      ]
    },
    {
      "cell_type": "code",
      "source": [
        "    # @markdown shot_long_hp_dura_contrib_poor selfcare_prac\n",
        "df_selfcare['shot_long_hp_dura_contrib_poor selfcare_prac'].value_counts(),df_selfcare['shot_long_hp_dura_contrib_poor selfcare_prac'].value_counts(normalize=True)*100"
      ],
      "metadata": {
        "colab": {
          "base_uri": "https://localhost:8080/"
        },
        "id": "JXoWKRE0Emzz",
        "outputId": "09abbddb-d88d-4f4e-f2be-1a868b6b7320"
      },
      "execution_count": 173,
      "outputs": [
        {
          "output_type": "execute_result",
          "data": {
            "text/plain": [
              "(shot_long_hp_dura_contrib_poor selfcare_prac\n",
              " Disagree             90\n",
              " Agree                67\n",
              " Strongly Disagree    48\n",
              " Strongly Agree       45\n",
              " Name: count, dtype: int64,\n",
              " shot_long_hp_dura_contrib_poor selfcare_prac\n",
              " Disagree             36.0\n",
              " Agree                26.8\n",
              " Strongly Disagree    19.2\n",
              " Strongly Agree       18.0\n",
              " Name: proportion, dtype: float64)"
            ]
          },
          "metadata": {},
          "execution_count": 173
        }
      ]
    },
    {
      "cell_type": "code",
      "source": [
        "      # @markdown miss_followup_appoint_hp_contrib_poor_selfcare_prac\n",
        "df_selfcare['miss_followup_appoint_hp_contrib_poor_selfcare_prac'].value_counts(),df_selfcare['miss_followup_appoint_hp_contrib_poor_selfcare_prac'].value_counts(normalize=True)*100"
      ],
      "metadata": {
        "colab": {
          "base_uri": "https://localhost:8080/"
        },
        "id": "bJWcFgxIEw9h",
        "outputId": "bb75caa8-ad7c-4ead-991d-5122db0f12a6"
      },
      "execution_count": 174,
      "outputs": [
        {
          "output_type": "execute_result",
          "data": {
            "text/plain": [
              "(miss_followup_appoint_hp_contrib_poor_selfcare_prac\n",
              " Strongly Agree       139\n",
              " Agree                 71\n",
              " Disagree              26\n",
              " Strongly Disagree     14\n",
              " Name: count, dtype: int64,\n",
              " miss_followup_appoint_hp_contrib_poor_selfcare_prac\n",
              " Strongly Agree       55.6\n",
              " Agree                28.4\n",
              " Disagree             10.4\n",
              " Strongly Disagree     5.6\n",
              " Name: proportion, dtype: float64)"
            ]
          },
          "metadata": {},
          "execution_count": 174
        }
      ]
    },
    {
      "cell_type": "markdown",
      "source": [
        "\n",
        "\n",
        "---\n",
        "\n",
        "\n",
        "**GRAPH/PLOTS**\n",
        "\n",
        "---\n",
        "\n"
      ],
      "metadata": {
        "id": "-ljt5VxIFMT-"
      }
    }
  ],
  "metadata": {
    "colab": {
      "provenance": [],
      "history_visible": true,
      "authorship_tag": "ABX9TyM210yBle+ZLKY5h68jyjFs",
      "include_colab_link": true
    },
    "kernelspec": {
      "display_name": "Python 3",
      "name": "python3"
    },
    "language_info": {
      "name": "python"
    }
  },
  "nbformat": 4,
  "nbformat_minor": 0
}